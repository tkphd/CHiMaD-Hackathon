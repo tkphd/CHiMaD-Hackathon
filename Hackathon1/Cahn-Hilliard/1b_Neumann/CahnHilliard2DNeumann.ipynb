{
 "cells": [
  {
   "cell_type": "markdown",
   "metadata": {},
   "source": [
    "## Cahn-Hilliard problem with 2-D Neumann boundaries\n",
    "The purpose of this notebook is to execute the Cahn-Hilliard problem in 2-D\n",
    "as defined during the first CHiMaD Hackathon, problem 1b, using MMSP from\n",
    "within the Jupyter notebook. This should replicate a terminal, with minor\n",
    "text editing, but otherwise compiling and running using system calls."
   ]
  },
  {
   "cell_type": "markdown",
   "metadata": {
    "collapsed": false
   },
   "source": [
    "### Write the ```generate``` and ```update``` functions\n",
    "While the MMSP codebase is several thousand lines, the user need only define two\n",
    "functions: ```generate()``` and ```update()```. This can often be accomplished in\n",
    "a hundred lines or so. Once written, these templated functions are compiled with\n",
    "a generic ```main()``` and the underlying grid and data classes to produce a working\n",
    "whole, using the excellent GNU ```make``` utility."
   ]
  },
  {
   "cell_type": "markdown",
   "metadata": {},
   "source": [
    "Thanks to the ```%%writefile``` magic, executing the next cell will write the cell's\n",
    "contents to ```cahnhilliard.cpp```, which is the file ```make``` expects to define\n",
    "```generate()``` and ```update()```."
   ]
  },
  {
   "cell_type": "code",
   "execution_count": null,
   "metadata": {
    "collapsed": false
   },
   "outputs": [],
   "source": [
    "%%writefile cahnhilliard.cpp\n",
    "// cahn-hilliard.hpp\n",
    "// Example code for 2D Cahn-Hilliard model problem\n",
    "// Questions/comments to trevor.keller@nist.gov (Trevor Keller)\n",
    "\n",
    "#ifndef CAHNHILLIARD_UPDATE\n",
    "#define CAHNHILLIARD_UPDATE\n",
    "#include\"MMSP.hpp\"          // pulls in the MMSP back-end (grid, data classes, etc.)\n",
    "#include<cmath>\n",
    "#include\"cahn-hilliard.hpp\" // defines the grid dimension (2) and type (double)\n",
    "\n",
    "// Hard-code some system parameters and numerical constants at global scope for convenience\n",
    "\n",
    "const double deltaX = 1.0;\n",
    "const double Ca = 0.05;\n",
    "const double Cb = 0.95;\n",
    "const double Cm = 0.5*(Ca + Cb);\n",
    "const double A = 2.0;\n",
    "const double B = A/((Ca-Cm)*(Ca-Cm));\n",
    "const double D = 2.0/(Cb-Ca);\n",
    "const double K = 2.0;\n",
    "const double CFL = 0.25;\n",
    "const double dt = std::pow(deltaX, 4)*CFL/(32.0*D*K);\n",
    "\n",
    "double energydensity(const double& C)\n",
    "{\n",
    "    return -0.5*A*pow(C-Cm,2) + 0.25*B*pow(C-Cm,4) + 0.25*Ca*pow(C-Ca,4) + 0.25*Cb*pow(C-Cb,4);\n",
    "}\n",
    "\n",
    "double dfdc(const double& C)\n",
    "{\n",
    "    return -A*(C-Cm) + B*pow(C-Cm, 3) + Ca*pow(C-Ca, 3) + Cb*pow(C-Cb, 3);\n",
    "}\n",
    "\n",
    "\n",
    "namespace MMSP {\n",
    "\n",
    "void generate(int dim, const char* filename)\n",
    "{\n",
    "    if (dim!=2) {\n",
    "        std::cerr<<\"ERROR: Initial condition is 2-D, only!\"<<std::endl;\n",
    "        std::exit(-1);\n",
    "    }\n",
    "\n",
    "    int rank=0;\n",
    "    #ifdef MPI_VERSION\n",
    "    rank = MPI::COMM_WORLD.Get_rank();\n",
    "    #endif                                                                                                                                               \n",
    "\n",
    "    const double q[2] = {0.1*std::sqrt(2.0), 0.1*std::sqrt(3.0)};                                                                                            \n",
    "                                                                                                                                                             \n",
    "    if (dim==2) {                                                                                                                                        \n",
    "        MMSP::grid<2,double> grid(1,0,200,0,200);                                                                                                    \n",
    "        for (int d=0; d<dim; d++){                                                                                                                   \n",
    "            dx(grid,d) = deltaX;                                                                                                                 \n",
    "            if (MMSP::x0(grid,d)==MMSP::g0(grid,d))                                                                                              \n",
    "                MMSP::b0(grid,d) = Neumann; // enumerated in MMSP.utility.hpp                                                                    \n",
    "            else if (MMSP::x1(grid,d)==MMSP::g1(grid,d))                                                                                         \n",
    "                MMSP::b1(grid,d) = Neumann; // enumerated in MMSP.utility.hpp                                                                    \n",
    "        }                                                                                                                                            \n",
    "\n",
    "        for (int i=0; i<nodes(grid); i++) {                                                                                                          \n",
    "            MMSP::vector<int> x = position(grid,i);                                                                                              \n",
    "            grid(x) = 0.45 + 0.01 * std::cos(x[0]*dx(grid,0)*q[0] + x[1]*dx(grid,1)*q[1]);                                                       \n",
    "        }                                                                                                                                            \n",
    "\n",
    "        #ifdef MPI_VERSION                                                                                                                           \n",
    "        MPI::COMM_WORLD.Barrier();                                                                                                                   \n",
    "        #endif                                                                                                                                       \n",
    "        output(grid,filename);                                                                                                                       \n",
    "        if (rank==0)                                                                                                                                 \n",
    "            std::cout<<\"Timestep is \"<<dt<<\" (Co=\"<<CFL<<')'<<std::endl;                                                                         \n",
    "    }                                                                                                                                                    \n",
    "}                                                                                                                                                            \n",
    "                                                                                                                                                             \n",
    "template <int dim, typename T>                                                                                                                               \n",
    "void update(MMSP::grid<dim,T>& grid, int steps)                                                                                                              \n",
    "{                                                                                                                                                            \n",
    "    int rank=0;                                                                                                                                          \n",
    "    #ifdef MPI_VERSION                                                                                                                                   \n",
    "    rank = MPI::COMM_WORLD.Get_rank();                                                                                                                   \n",
    "    #endif                                                                                                                                               \n",
    "\n",
    "    // Make sure the grid spacing is correct                                                                                                             \n",
    "    for (int d=0; d<dim; d++) {                                                                                                                          \n",
    "        dx(grid,d) = deltaX;                                                                                                                         \n",
    "        if (MMSP::x0(grid,d)==MMSP::g0(grid,d))                                                                                                      \n",
    "            MMSP::b0(grid,d) = Neumann; // enumerated in MMSP.utility.hpp                                                                            \n",
    "        else if (MMSP::x1(grid,d)==MMSP::g1(grid,d))                                                                                                 \n",
    "            MMSP::b1(grid,d) = Neumann; // enumerated in MMSP.utility.hpp                                                                            \n",
    "    }                                                                                                                                                        \n",
    "                                                                                                                                                             \n",
    "    ghostswap(grid);                                                                                                                                     \n",
    "                                                                                                                                                             \n",
    "    // Let us be absolutely explicit about BCs here.                                                                                                          \n",
    "    MMSP::grid<dim,T> update(grid);\n",
    "    for (int d=0; d<dim; d++) {\n",
    "        dx(update,d) = deltaX;\n",
    "        if (MMSP::x0(update,d)==MMSP::g0(update,d))\n",
    "            MMSP::b0(update,d) = Neumann; // enumerated in MMSP.utility.hpp\n",
    "        else if (MMSP::x1(update,d)==MMSP::g1(update,d))\n",
    "            MMSP::b1(update,d) = Neumann; // enumerated in MMSP.utility.hpp\n",
    "    }\n",
    "\n",
    "    MMSP::grid<dim,T> temp(grid);\n",
    "    for (int d=0; d<dim; d++) {\n",
    "        dx(temp,d) = deltaX;\n",
    "        if (MMSP::x0(temp,d)==MMSP::g0(temp,d))\n",
    "            MMSP::b0(temp,d) = Neumann; // enumerated in MMSP.utility.hpp\n",
    "        else if (MMSP::x1(temp,d)==MMSP::g1(temp,d))\n",
    "            MMSP::b1(temp,d) = Neumann; // enumerated in MMSP.utility.hpp\n",
    "    }\n",
    "\n",
    "\n",
    "    for (int step=0; step<steps; step++) {\n",
    "        for (int i=0; i<nodes(grid); i++) {\n",
    "            MMSP::vector<int> x = position(grid,i);\n",
    "            double c = grid(x);\n",
    "            temp(i) = dfdc(c) - K*laplacian(grid,x);\n",
    "        }\n",
    "\n",
    "        ghostswap(temp);\n",
    "\n",
    "        double energy = 0.0;\n",
    "        double mass = 0.0;\n",
    "        for (int i=0; i<nodes(grid); i++) {\n",
    "                MMSP::vector<int> x = position(grid,i);\n",
    "                update(x) = grid(x)+dt*D*laplacian(temp,x);\n",
    "                energy += dx(grid)*dy(grid)*energydensity(update(x));\n",
    "                mass += dx(grid)*dy(grid)*update(x);\n",
    "        }\n",
    "        #ifdef MPI_VERSION\n",
    "        MPI::COMM_WORLD.Barrier();\n",
    "        double myEnergy = energy;\n",
    "        double myMass = mass;\n",
    "        MPI::COMM_WORLD.Allreduce(&myEnergy, &energy, 1, MPI_DOUBLE, MPI_SUM);\n",
    "        MPI::COMM_WORLD.Allreduce(&myMass, &mass, 1, MPI_DOUBLE, MPI_SUM);\n",
    "        #endif\n",
    "        #ifndef DEBUG\n",
    "        if (rank==0)\n",
    "            std::cout<<energy<<'\\t'<<mass<<'\\n';\n",
    "        #endif\n",
    "\n",
    "        swap(grid,update);\n",
    "        ghostswap(grid);\n",
    "    }\n",
    "    #ifndef DEBUG\n",
    "    if (rank==0)\n",
    "        std::cout<<std::flush;\n",
    "    #endif\n",
    "}\n",
    "\n",
    "} // MMSP\n",
    "#endif\n",
    "\n",
    "#include\"MMSP.main.hpp\"\n"
   ]
  },
  {
   "cell_type": "markdown",
   "metadata": {},
   "source": [
    "### Compile for serial or parallel execution\n",
    "Assuming you have exported the path to MMSP as ```$MMSP_PATH```, this should work."
   ]
  },
  {
   "cell_type": "code",
   "execution_count": null,
   "metadata": {
    "collapsed": false
   },
   "outputs": [],
   "source": [
    "# get rid of old executables\n",
    "!make clean\n",
    "\n",
    "# Serial is the default, so simply execute\n",
    "!make\n",
    "\n",
    "# Parallel is just as easy:\n",
    "!make parallel"
   ]
  },
  {
   "cell_type": "markdown",
   "metadata": {},
   "source": [
    "### Take baby steps\n",
    "Using the generic ```main()```, simulations are run in two stages:\n",
    "* First using the ```--example 2``` flag, which triggers grid construction and initialization in 2D\n",
    "* Next using the filename you wrote, the total runtime, and the number of steps between checkpoints"
   ]
  },
  {
   "cell_type": "code",
   "execution_count": null,
   "metadata": {
    "collapsed": false
   },
   "outputs": [],
   "source": [
    "# If parallel is an option, use it. Specify the desired number of cores here.\n",
    "%env cores = 2"
   ]
  },
  {
   "cell_type": "code",
   "execution_count": null,
   "metadata": {
    "collapsed": false
   },
   "outputs": [],
   "source": [
    "# Create a place for data to live, and delete stale runtime log file if it exists\n",
    "!mkdir data\n",
    "!rm -f energy.log\n",
    "\n",
    "## Serial\n",
    "## Initialize your 2D domain\n",
    "#!./cahn-hilliard --example 2 data/test.0000.dat\n",
    "#\n",
    "## Take a thousand steps, saving the output (energy and composition) to energy.log\n",
    "#!./cahn-hilliard data/test.0000.dat 1000 1000 > energy.log\n",
    "\n",
    "# Parallel\n",
    "# Initialize your 2D domain \n",
    "!mpirun -np $cores ./parallel --example 2 data/test.0000.dat\n",
    "\n",
    "# Take a thousand steps, saving the output (energy and composition) to energy.log\n",
    "!mpirun -np $cores ./parallel data/test.0000.dat 1000 1000 > energy.log"
   ]
  },
  {
   "cell_type": "markdown",
   "metadata": {},
   "source": [
    "### Visualize the checkpoint result"
   ]
  },
  {
   "cell_type": "code",
   "execution_count": null,
   "metadata": {
    "collapsed": false
   },
   "outputs": [],
   "source": [
    "# Convert the binary data to a viewable PNG image. Specify --zoom to show higher contrast.\n",
    "!mmsp2png data/test.1000.dat\n",
    "\n",
    "# Show the result\n",
    "from IPython.display import Image\n",
    "Image('data/test.1000.png')"
   ]
  },
  {
   "cell_type": "code",
   "execution_count": null,
   "metadata": {
    "collapsed": false
   },
   "outputs": [],
   "source": [
    "%matplotlib inline\n",
    "# Plot energy and mass from energy.log. Let's make it a function, since it's handy to have around.\n",
    "def plot_energy():\n",
    "    import matplotlib.pylab as plt\n",
    "    import numpy as np\n",
    "\n",
    "    dt = 0.00175 # make sure this matches the value reported from generate()\n",
    "\n",
    "    e,c = np.loadtxt('energy.log',usecols=(0, 1), unpack=True, skiprows=1, delimiter='\\t')\n",
    "    t = dt*np.arange(0,len(e))\n",
    "\n",
    "    # Plot energy vs. time\n",
    "    plt.semilogy(t, e-np.min(e))\n",
    "    plt.xlabel(r'Time (using $\\Delta t={0}$)'.format(dt))\n",
    "    plt.ylabel(r'$\\mathcal{F}-\\mathcal{F}_{min}=\\sum\\sum f_0\\Delta x\\Delta y$ (arb. units)')\n",
    "    plt.title(\"Neumann Cahn-Hilliard\")\n",
    "    plt.show()\n",
    "\n",
    "    # Plot composition vs. time\n",
    "    plt.semilogy(t, c)\n",
    "    plt.xlabel(r'Time (using $\\Delta t={0}$)'.format(dt))\n",
    "    plt.ylabel(r'$m=\\sum\\sum c\\Delta x\\Delta y$ (arb. units)')\n",
    "    plt.ylim([10, 5e4])\n",
    "    plt.title(\"Neumann Cahn-Hilliard\")\n",
    "    plt.show()\n",
    "plot_energy()"
   ]
  },
  {
   "cell_type": "markdown",
   "metadata": {},
   "source": [
    "### Run in earnest\n",
    "Those graphs look good to me: mass is conserved, and energy is falling. Let 'er rip!"
   ]
  },
  {
   "cell_type": "code",
   "execution_count": null,
   "metadata": {
    "collapsed": false
   },
   "outputs": [],
   "source": [
    "# Clear the log\n",
    "!rm energy.log\n",
    "\n",
    "## Serial\n",
    "## Take a million steps, saving the output (energy and composition) to energy.log\n",
    "#!./cahn-hilliard data/test.0000.dat 1000 1000 > energy.log\n",
    "\n",
    "# Parallel\n",
    "# Take a million steps, saving the output (energy and composition) to energy.log\n",
    "!time mpirun -np $cores ./parallel data/test.0000.dat 1000000 100000 > energy.log"
   ]
  },
  {
   "cell_type": "code",
   "execution_count": null,
   "metadata": {
    "collapsed": false
   },
   "outputs": [],
   "source": [
    "# Convert all the binaries to viewable PNG images\n",
    "!for f in data/test.*.dat; do mmsp2png $f; done\n",
    "\n",
    "# Show the last result\n",
    "from IPython.display import Image\n",
    "Image('data/test.1000000.png')"
   ]
  },
  {
   "cell_type": "code",
   "execution_count": null,
   "metadata": {
    "collapsed": true
   },
   "outputs": [],
   "source": [
    "# Check that mass was conserved\n",
    "plot_energy()"
   ]
  }
 ],
 "metadata": {
  "kernelspec": {
   "display_name": "Python 2",
   "language": "python",
   "name": "python2"
  },
  "language_info": {
   "codemirror_mode": {
    "name": "ipython",
    "version": 2
   },
   "file_extension": ".py",
   "mimetype": "text/x-python",
   "name": "python",
   "nbconvert_exporter": "python",
   "pygments_lexer": "ipython2",
   "version": "2.7.11"
  }
 },
 "nbformat": 4,
 "nbformat_minor": 0
}
